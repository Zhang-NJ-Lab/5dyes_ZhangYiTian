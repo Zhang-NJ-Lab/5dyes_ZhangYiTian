{
 "cells": [
  {
   "cell_type": "code",
   "execution_count": 1,
   "id": "bff6e852-9b19-4794-aee4-0d811f14731d",
   "metadata": {},
   "outputs": [],
   "source": [
    "import pickle\n",
    "import pandas as pd\n",
    "import numpy as np"
   ]
  },
  {
   "cell_type": "code",
   "execution_count": 2,
   "id": "5496db1e-9734-4e03-aeef-327b24c2572d",
   "metadata": {},
   "outputs": [],
   "source": [
    "loaded_model = pickle.load(open(\"ET.dat\",\"rb\"))"
   ]
  },
  {
   "cell_type": "code",
   "execution_count": 4,
   "id": "566d6062-c62c-4c91-91f5-971d9ef74385",
   "metadata": {},
   "outputs": [],
   "source": [
    "dataset= r'Prediction_dataset_outpredict_norepeat.csv'\n",
    "data=pd.DataFrame(pd.read_csv(dataset))"
   ]
  },
  {
   "cell_type": "code",
   "execution_count": 5,
   "id": "1bdf864f-903a-4a2d-ad96-b23ab7f97a12",
   "metadata": {},
   "outputs": [],
   "source": [
    "X = data.values[:, :-1]"
   ]
  },
  {
   "cell_type": "code",
   "execution_count": 6,
   "id": "98bdf435-1f59-4b14-91de-ddafe7dd13c7",
   "metadata": {},
   "outputs": [],
   "source": [
    "target=loaded_model.predict(X)"
   ]
  },
  {
   "cell_type": "code",
   "execution_count": 7,
   "id": "40eda131-968c-4664-9a18-a29f090130b8",
   "metadata": {},
   "outputs": [
    {
     "name": "stdout",
     "output_type": "stream",
     "text": [
      "[1. 1. 1. ... 0. 0. 0.]\n"
     ]
    }
   ],
   "source": [
    "print(loaded_model.predict(X))"
   ]
  },
  {
   "cell_type": "code",
   "execution_count": 8,
   "id": "7e1e37fc-e0e4-416a-89f4-b64cb32c0eb5",
   "metadata": {},
   "outputs": [],
   "source": [
    "import csv\n",
    "with open('target3.csv', 'w', newline='') as file:\n",
    "    writer = csv.writer(file)\n",
    "    \n",
    "    # Write each element in the array as a new row in the CSV file\n",
    "    for element in target:\n",
    "        writer.writerow([element])"
   ]
  },
  {
   "cell_type": "code",
   "execution_count": null,
   "id": "8c760e6c-5fdf-4ee3-831f-2a7ab1e6ff64",
   "metadata": {},
   "outputs": [],
   "source": []
  }
 ],
 "metadata": {
  "kernelspec": {
   "display_name": "NJmatML",
   "language": "python",
   "name": "njmatml"
  },
  "language_info": {
   "codemirror_mode": {
    "name": "ipython",
    "version": 3
   },
   "file_extension": ".py",
   "mimetype": "text/x-python",
   "name": "python",
   "nbconvert_exporter": "python",
   "pygments_lexer": "ipython3",
   "version": "3.8.8"
  }
 },
 "nbformat": 4,
 "nbformat_minor": 5
}
