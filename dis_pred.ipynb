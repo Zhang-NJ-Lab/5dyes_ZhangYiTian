{
 "cells": [
  {
   "cell_type": "code",
   "execution_count": 1,
   "id": "d276d2eb-5b3c-4cc8-b62c-394da4183a31",
   "metadata": {},
   "outputs": [],
   "source": [
    "import pandas as pd\n",
    "\n",
    "indata = pd.read_csv('outputtry5_English.csv')\n",
    "\n",
    "dis = pd.read_csv('填充描述符13.csv',header=0,index_col=0)\n",
    "\n",
    "\n",
    "\n",
    "out = []\n",
    "\n",
    "\n",
    "\n",
    "for i in range(len(indata)):\n",
    "\n",
    "    temp = []\n",
    "\n",
    "    text = indata.loc[i]\n",
    "\n",
    "    for j in range(5):\n",
    "\n",
    "\n",
    "        element = text[j]\n",
    "\n",
    "\n",
    "        temp.extend(dis.loc[element])\n",
    "\n",
    "    out.append(temp)\n",
    "\n",
    "output = pd.DataFrame(out)\n",
    "\n",
    "output.to_csv('out.csv')"
   ]
  },
  {
   "cell_type": "code",
   "execution_count": null,
   "id": "315d1b9e-9d49-4365-8937-c878cad74049",
   "metadata": {},
   "outputs": [],
   "source": []
  }
 ],
 "metadata": {
  "kernelspec": {
   "display_name": "NJmatML",
   "language": "python",
   "name": "njmatml"
  },
  "language_info": {
   "codemirror_mode": {
    "name": "ipython",
    "version": 3
   },
   "file_extension": ".py",
   "mimetype": "text/x-python",
   "name": "python",
   "nbconvert_exporter": "python",
   "pygments_lexer": "ipython3",
   "version": "3.8.8"
  }
 },
 "nbformat": 4,
 "nbformat_minor": 5
}
