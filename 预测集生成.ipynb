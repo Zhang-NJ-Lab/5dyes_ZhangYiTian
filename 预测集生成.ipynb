{
 "cells": [
  {
   "cell_type": "code",
   "execution_count": 7,
   "id": "9d059b3d",
   "metadata": {},
   "outputs": [],
   "source": [
    "import csv\n",
    "\n",
    "# Define the data\n",
    "column1 = ['碱性红', '油黑','健那绿B','俾斯麦棕R','香豆素-3-甲酸','酞菁','罗丹明B','甲基红','滂胺天蓝','直接黄12']\n",
    "column2 = ['碱性红', '油黑','健那绿B','俾斯麦棕R','香豆素-3-甲酸','酞菁','罗丹明B','甲基红','滂胺天蓝','直接黄12']\n",
    "column3 = ['碱性红', '油黑','健那绿B','俾斯麦棕R','香豆素-3-甲酸','酞菁','罗丹明B','甲基红','滂胺天蓝','直接黄12']\n",
    "column4 = ['碱性红', '油黑','健那绿B','俾斯麦棕R','香豆素-3-甲酸','酞菁','罗丹明B','甲基红','滂胺天蓝','直接黄12']\n",
    "column5 = ['碱性红', '油黑','健那绿B','俾斯麦棕R','香豆素-3-甲酸','酞菁','罗丹明B','甲基红','滂胺天蓝','直接黄12']\n",
    "column6 = ['1','0','1/2','1/5']\n",
    "# Cross-multiply the columns to generate the data for the CSV file\n",
    "data = [(c1, c2, c3, c4, c5, c6) for c1 in column1 for c2 in column2 for c3 in column3 for c4 in column4 for c5 in column5 for c6 in column6]\n",
    "\n",
    "# Create the CSV file and write the data to it\n",
    "with open('outputtry5.csv', 'w', newline='',encoding = 'UTF-8') as csvfile:\n",
    "    writer = csv.writer(csvfile)\n",
    "    writer.writerows(data)"
   ]
  },
  {
   "cell_type": "code",
   "execution_count": null,
   "id": "78c5e36c",
   "metadata": {},
   "outputs": [],
   "source": []
  },
  {
   "cell_type": "code",
   "execution_count": null,
   "id": "e6479ebd",
   "metadata": {},
   "outputs": [],
   "source": []
  }
 ],
 "metadata": {
  "kernelspec": {
   "display_name": "Python 3 (ipykernel)",
   "language": "python",
   "name": "python3"
  },
  "language_info": {
   "codemirror_mode": {
    "name": "ipython",
    "version": 3
   },
   "file_extension": ".py",
   "mimetype": "text/x-python",
   "name": "python",
   "nbconvert_exporter": "python",
   "pygments_lexer": "ipython3",
   "version": "3.8.8"
  }
 },
 "nbformat": 4,
 "nbformat_minor": 5
}
